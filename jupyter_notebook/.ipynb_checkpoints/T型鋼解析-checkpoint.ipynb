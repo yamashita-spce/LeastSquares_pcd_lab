{
 "cells": [
  {
   "cell_type": "code",
   "execution_count": 64,
   "metadata": {},
   "outputs": [
    {
     "name": "stdout",
     "output_type": "stream",
     "text": [
      "4354\n",
      "[[-2.75518950e-03  3.09550912e-02 -1.50210862e-01]\n",
      " [-2.75518950e-03  1.59552748e-02 -1.48209524e-01]\n",
      " [-2.75518950e-03  1.89601858e-02 -1.36184861e-01]\n",
      " ...\n",
      " [-2.75518950e-03  2.49947463e-02 -5.80070768e-02]\n",
      " [-2.75518950e-03  3.49946239e-02 -3.61606376e-05]\n",
      " [-2.75518950e-03  3.49946239e-02 -5.80086018e-02]]\n"
     ]
    }
   ],
   "source": [
    "#xyzファイルのインポート\n",
    "import numpy as np\n",
    "from matplotlib import pyplot as plt\n",
    "from mpl_toolkits.mplot3d import Axes3D\n",
    "\n",
    "with open(\"C:/Users/kozo/Documents/PYTHON/Least_squares/example_surfacepcd.xyz\", \"r\") as inf:\n",
    "    iary = inf.readlines()\n",
    "\n",
    "le = len(iary)\n",
    "xyz = np.zeros((le, 3))\n",
    "\n",
    "for i, ary in enumerate(iary):\n",
    "    ary = ary.replace(\"\\n\", \"\")\n",
    "    data = ary.split(\" \")\n",
    "    u, m, p = float(data[0]), float(data[1]), float(data[2])\n",
    "    xyz[i] = [u, m, p]\n",
    "\n",
    "#yz平面データ\n",
    "print(le)\n",
    "print(xyz)\n",
    "\n",
    "#座標ごとの配列に転置\n",
    "x, y, z = xyz.T"
   ]
  },
  {
   "cell_type": "code",
   "execution_count": 65,
   "metadata": {},
   "outputs": [
    {
     "name": "stdout",
     "output_type": "stream",
     "text": [
      "-0.10901350896388423 0.09998393288071648 -0.15314687510986585 0.000962754190741866\n"
     ]
    },
    {
     "data": {
      "text/plain": [
       "[<matplotlib.lines.Line2D at 0x145686e58d0>]"
      ]
     },
     "execution_count": 65,
     "metadata": {},
     "output_type": "execute_result"
    },
    {
     "data": {
      "image/png": "[encoded data removed]",
      "text/plain": [
       "<Figure size 432x288 with 1 Axes>"
      ]
     },
     "metadata": {},
     "output_type": "display_data"
    }
   ],
   "source": [
    "#y,zの最小値と最大値\n",
    "\n",
    "y_min, y_max = y.min(), y.max()\n",
    "z_min, z_max = z.min(), z.max()\n",
    "\n",
    "print(y_min, y_max, z_min, z_max)\n",
    "\n",
    "\n",
    "y_sort = np.sort(y)\n",
    "z_sort = np.sort(z)\n",
    "lel = np.arange(le)\n",
    "\n",
    "\n",
    "#y_sort,z_sort の微分\n",
    "y_grad = np.zeros(le)\n",
    "z_grad = np.zeros(le)\n",
    "\n",
    "for i in lel:\n",
    "    if i == 0:\n",
    "        continue\n",
    "    y_grad[i] = y_sort[i] - y_sort[i - 1]\n",
    "    z_grad[i] = z_sort[i] - z_sort[i - 1]\n",
    "\n",
    "plt.plot(lel, y_grad)\n",
    "plt.plot(lel, z_grad)\n"
   ]
  },
  {
   "cell_type": "code",
   "execution_count": 71,
   "metadata": {},
   "outputs": [
    {
     "ename": "IndexError",
     "evalue": "index 4354 is out of bounds for axis 0 with size 4354",
     "output_type": "error",
     "traceback": [
      "\u001b[1;31m---------------------------------------------------------------------------\u001b[0m",
      "\u001b[1;31mIndexError\u001b[0m                                Traceback (most recent call last)",
      "\u001b[1;32m<ipython-input-71-4d6aee617642>\u001b[0m in \u001b[0;36m<module>\u001b[1;34m()\u001b[0m\n\u001b[0;32m      7\u001b[0m \u001b[1;32mfor\u001b[0m \u001b[0mi\u001b[0m \u001b[1;32min\u001b[0m \u001b[0mrange\u001b[0m\u001b[1;33m(\u001b[0m\u001b[0mlen\u001b[0m\u001b[1;33m(\u001b[0m\u001b[0my\u001b[0m\u001b[1;33m)\u001b[0m\u001b[1;33m)\u001b[0m\u001b[1;33m:\u001b[0m\u001b[1;33m\u001b[0m\u001b[0m\n\u001b[0;32m      8\u001b[0m     \u001b[1;32mfor\u001b[0m \u001b[0mj\u001b[0m \u001b[1;32min\u001b[0m \u001b[0mrange\u001b[0m\u001b[1;33m(\u001b[0m\u001b[0mlen\u001b[0m\u001b[1;33m(\u001b[0m\u001b[0my\u001b[0m\u001b[1;33m)\u001b[0m \u001b[1;33m-\u001b[0m \u001b[0mi\u001b[0m\u001b[1;33m)\u001b[0m\u001b[1;33m[\u001b[0m\u001b[1;33m:\u001b[0m\u001b[1;33m:\u001b[0m \u001b[1;33m-\u001b[0m\u001b[1;36m1\u001b[0m\u001b[1;33m]\u001b[0m\u001b[1;33m:\u001b[0m\u001b[1;33m\u001b[0m\u001b[0m\n\u001b[1;32m----> 9\u001b[1;33m         \u001b[1;32mif\u001b[0m \u001b[0my\u001b[0m\u001b[1;33m[\u001b[0m\u001b[0mj\u001b[0m\u001b[1;33m]\u001b[0m \u001b[1;33m>\u001b[0m \u001b[0my\u001b[0m\u001b[1;33m[\u001b[0m\u001b[0mj\u001b[0m \u001b[1;33m+\u001b[0m \u001b[1;36m1\u001b[0m\u001b[1;33m]\u001b[0m\u001b[1;33m:\u001b[0m\u001b[1;33m\u001b[0m\u001b[0m\n\u001b[0m\u001b[0;32m     10\u001b[0m             \u001b[0ma\u001b[0m\u001b[1;33m,\u001b[0m \u001b[0mb\u001b[0m \u001b[1;33m=\u001b[0m \u001b[0my\u001b[0m\u001b[1;33m[\u001b[0m\u001b[0mj\u001b[0m\u001b[1;33m]\u001b[0m\u001b[1;33m,\u001b[0m \u001b[0mz\u001b[0m\u001b[1;33m[\u001b[0m\u001b[0mj\u001b[0m\u001b[1;33m]\u001b[0m\u001b[1;33m\u001b[0m\u001b[0m\n\u001b[0;32m     11\u001b[0m             \u001b[0my\u001b[0m\u001b[1;33m[\u001b[0m\u001b[0mj\u001b[0m\u001b[1;33m]\u001b[0m\u001b[1;33m,\u001b[0m \u001b[0mz\u001b[0m\u001b[1;33m[\u001b[0m\u001b[0mj\u001b[0m\u001b[1;33m]\u001b[0m \u001b[1;33m=\u001b[0m \u001b[0my\u001b[0m\u001b[1;33m[\u001b[0m\u001b[0mj\u001b[0m \u001b[1;33m+\u001b[0m \u001b[1;36m1\u001b[0m\u001b[1;33m]\u001b[0m\u001b[1;33m,\u001b[0m \u001b[0mz\u001b[0m\u001b[1;33m[\u001b[0m\u001b[0mj\u001b[0m \u001b[1;33m+\u001b[0m \u001b[1;36m1\u001b[0m\u001b[1;33m]\u001b[0m\u001b[1;33m\u001b[0m\u001b[0m\n",
      "\u001b[1;31mIndexError\u001b[0m: index 4354 is out of bounds for axis 0 with size 4354"
     ]
    }
   ],
   "source": [
    "#y, z点の点数の微分\n",
    "\n",
    "#分割数N\n",
    "N = le / 100 #各分割領域に点群が少なくとも100ほど存在できるくらいの精度\n",
    "\n",
    "#yを基準にソート\n",
    "for i in range(len(y)):\n",
    "    for j in range(len(y) - i - 1)[:: -1]:\n",
    "        if y[j] > y[j + 1]:\n",
    "            a, b = y[j], z[j]\n",
    "            y[j], z[j] = y[j + 1], z[j + 1]\n",
    "            y[j + 1], z[j + 1] = a, b\n",
    "            \n",
    "            \n",
    "print(y)"
   ]
  },
  {
   "cell_type": "code",
   "execution_count": null,
   "metadata": {},
   "outputs": [],
   "source": []
  }
 ],
 "metadata": {
  "kernelspec": {
   "display_name": "Python 3",
   "language": "python",
   "name": "python3"
  },
  "language_info": {
   "codemirror_mode": {
    "name": "ipython",
    "version": 3
   },
   "file_extension": ".py",
   "mimetype": "text/x-python",
   "name": "python",
   "nbconvert_exporter": "python",
   "pygments_lexer": "ipython3",
   "version": "3.6.5"
  }
 },
 "nbformat": 4,
 "nbformat_minor": 2
}
