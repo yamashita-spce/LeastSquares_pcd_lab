{
 "cells": [
  {
   "cell_type": "code",
   "execution_count": 1,
   "metadata": {},
   "outputs": [
    {
     "name": "stdout",
     "output_type": "stream",
     "text": [
      "3\n"
     ]
    }
   ],
   "source": [
    "import numpy as np\n",
    "\n",
    "#行数の指定\n",
    "ROW = 3\n",
    "\n",
    "#正方行列の定義\n",
    "A = np.array([[1,1,1],\n",
    "              [2,3,-2],\n",
    "              [3,-1,1]])\n",
    "print(len(A))\n",
    "\n",
    "#配列の初期化\n",
    "L = np.zeros((ROW,ROW))\n",
    "U = np.zeros((ROW,ROW))\n",
    "Ai = np.zeros((ROW,ROW))"
   ]
  },
  {
   "cell_type": "code",
   "execution_count": 2,
   "metadata": {},
   "outputs": [
    {
     "name": "stdout",
     "output_type": "stream",
     "text": [
      "L行列\n",
      "[[  1.   0.   0.]\n",
      " [  2.   1.   0.]\n",
      " [  3.  -4. -18.]]\n",
      "\n",
      "U行列\n",
      "[[ 1.  1.  1.]\n",
      " [ 0.  1. -4.]\n",
      " [ 0.  0.  1.]]\n"
     ]
    }
   ],
   "source": [
    "#LU分解（A=LUとなるような、左下三角行列Lと右上三角行列Uを求める）\n",
    "\n",
    "Ai = np.copy(A)\n",
    "\n",
    "for i in range(ROW):\n",
    "\n",
    "    #LUに値を代入\n",
    "    for k in range(ROW - i):\n",
    "        L[ROW - (k + 1)][i] = Ai[ROW - (k + 1)][i]\n",
    "        U[i][ROW - (k + 1)] = Ai[i][ROW - (k + 1)]/Ai[i][i]\n",
    "        \n",
    "        if i == (ROW - (k + 1)):\n",
    "            U[i][ROW - (k + 1)] = 1\n",
    "        \n",
    "    #終了条件\n",
    "    if (ROW - (i + 1)) == 0:\n",
    "        break\n",
    "        \n",
    "    #＜アルゴリズム＞　Ai <-- Ai - l(1)*u(0)_T の変換はAi配列に直接変換値を代入している\n",
    "    for j in range(ROW - (i + 1)):\n",
    "        for m in range(ROW - (i + 1)):\n",
    "            #Ai <-- Ai - l_1*u_T\n",
    "            Ai[ROW - (1 + j)][ROW - (1 + m)] -=  L[ROW - (j + 1)][i]* U[i][ROW - (m + 1)]\n",
    "\n",
    "print(\"L行列\")\n",
    "print(L)\n",
    "print(\"\\nU行列\")\n",
    "print(U)"
   ]
  },
  {
   "cell_type": "code",
   "execution_count": 3,
   "metadata": {},
   "outputs": [
    {
     "name": "stdout",
     "output_type": "stream",
     "text": [
      "元の行列\n",
      "[[ 1  1  1]\n",
      " [ 2  3 -2]\n",
      " [ 3 -1  1]]\n",
      "\n",
      "LUから戻した時のA行列\n",
      "[[ 1.  1.  1.]\n",
      " [ 2.  3. -2.]\n",
      " [ 3. -1.  1.]]\n"
     ]
    }
   ],
   "source": [
    "#確認　LU --> A となるか\n",
    "\n",
    "AA = np.zeros((ROW,ROW))\n",
    "\n",
    "for i in range(ROW):\n",
    "    for j in range(ROW):\n",
    "        for k in range(ROW):\n",
    "            AA[i][j] += L[i][k]*U[k][j]\n",
    "\n",
    "print(\"元の行列\")\n",
    "print(A)\n",
    "print(\"\\nLUから戻した時のA行列\")\n",
    "print(AA)"
   ]
  },
  {
   "cell_type": "code",
   "execution_count": 4,
   "metadata": {},
   "outputs": [
    {
     "name": "stdout",
     "output_type": "stream",
     "text": [
      "[  9. -13.   4.]\n",
      "[2. 3. 4.]\n"
     ]
    }
   ],
   "source": [
    "# 3元連立方程式の解\n",
    "# Xを求めたい行列とし、AX = Y で与えられた連立一元方程式を解く\n",
    "# AX = Y --> UX = B, LB = Y で求まる\n",
    "\n",
    "Y = np.array([9,5,7])\n",
    "\n",
    "# LB = Y\n",
    "B = np.zeros(ROW)\n",
    "\n",
    "B[0] = Y[0]/L[0][0]\n",
    "B[1] = Y[1]/L[1][1] - L[1][0] * B[0]/L[1][1]\n",
    "B[2] = Y[2]/L[2][2] - L[2][1] * B[1]/L[2][2] - L[2][0] * B[0]/L[2][2]\n",
    "\n",
    "#print(B)\n",
    "\n",
    "# UX = B\n",
    "X = np.zeros(ROW)\n",
    "\n",
    "X[2] = B[2]\n",
    "X[1] = B[1] - U[1][2] * X[2]\n",
    "X[0] = B[0] - U[0][2] * X[2] - U[0][1] * X[1] \n",
    "\n",
    "\n",
    "print(方程式の解)\n",
    "print(X)\n"
   ]
  },
  {
   "cell_type": "code",
   "execution_count": 8,
   "metadata": {},
   "outputs": [
    {
     "name": "stdout",
     "output_type": "stream",
     "text": [
      "\n",
      "方程式の解\n",
      "[2. 3. 4.]\n"
     ]
    }
   ],
   "source": [
    "#一般解アルゴリズム\n",
    "#AX = Y --> UX = B, LB = Y \n",
    "\n",
    "#ROW = 4\n",
    "#Y = np.array([3,2,1,3])\n",
    "\n",
    "Y = np.array([9,5,7])\n",
    "\n",
    "#LB = Y\n",
    "B = np.zeros(ROW)\n",
    "\n",
    "for i in range(ROW):\n",
    "    \n",
    "    B[i] = Y[i]/L[i][i]\n",
    "    if i == 0:\n",
    "        continue\n",
    "        \n",
    "    for j in range(i):\n",
    "        B[i] -= (L[i][i - j - 1]/L[i][i])*B[i - j - 1]\n",
    "\n",
    "# UX = B\n",
    "X = np.zeros(ROW)\n",
    "\n",
    "for i in range(ROW):\n",
    "    j = ROW - 1 - i\n",
    "    \n",
    "    X[j] = B[j]\n",
    "    if i == 0:\n",
    "        continue\n",
    "    \n",
    "    for k in range(i):\n",
    "        X[j] -= U[j][ROW - (k + 1)]*X[ROW - (k + 1)]\n",
    "\n",
    "        \n",
    "print(\"\\n方程式の解\")\n",
    "print(X)    \n",
    "        \n",
    "        \n",
    "        "
   ]
  },
  {
   "cell_type": "code",
   "execution_count": 10,
   "metadata": {},
   "outputs": [
    {
     "name": "stdout",
     "output_type": "stream",
     "text": [
      "[[0.]\n",
      " [0.]\n",
      " [0.]\n",
      " [0.]\n",
      " [0.]\n",
      " [0.]\n",
      " [0.]\n",
      " [0.]\n",
      " [0.]\n",
      " [0.]]\n"
     ]
    }
   ],
   "source": [
    "ik = np.zeros((10,1))\n",
    "print(ik)"
   ]
  }
 ],
 "metadata": {
  "kernelspec": {
   "display_name": "Python 3",
   "language": "python",
   "name": "python3"
  },
  "language_info": {
   "codemirror_mode": {
    "name": "ipython",
    "version": 3
   },
   "file_extension": ".py",
   "mimetype": "text/x-python",
   "name": "python",
   "nbconvert_exporter": "python",
   "pygments_lexer": "ipython3",
   "version": "3.6.5"
  }
 },
 "nbformat": 4,
 "nbformat_minor": 2
}
